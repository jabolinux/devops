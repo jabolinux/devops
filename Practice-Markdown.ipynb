{
 "cells": [
  {
   "cell_type": "markdown",
   "metadata": {},
   "source": [
    "## Practice Markdown"
   ]
  },
  {
   "cell_type": "markdown",
   "metadata": {},
   "source": [
    "This notebook lets you experiment with producing repeatable technical documentation.  Use this notebook to do the following actions:\n",
    "\n",
    "* Create a code cell and print a Python Hello World statement:  `print(\"hello world\")`\n",
    "* Create a Markdown Cell and add a Title using `#` and then a statement using plain text.  You can looks at the source code for this cell to get an idea of how to use Markdown.\n",
    "* Take some ideas from the [Master Markdown Github Guide](https://guides.github.com/features/mastering-markdown/) and implement them here.\n",
    "* Download this notebook as a `.ipynb` file and check into a Github Project.  You can [see an example here](https://github.com/noahgift/duke-coursera-ccf-lab1/blob/main/Practice-Markdown.ipynb).\n",
    "* Open your notebook in Google Colab and save it into the same Github Project.  You can [see an example here](https://github.com/noahgift/duke-coursera-ccf-lab1/blob/main/Practice_Markdown_with_colab.ipynb).\n"
   ]
  },
  {
   "cell_type": "code",
   "execution_count": 3,
   "metadata": {},
   "outputs": [
    {
     "name": "stdout",
     "output_type": "stream",
     "text": [
      "hello world\n"
     ]
    }
   ],
   "source": [
    "print(\"hello world\")"
   ]
  },
  {
   "cell_type": "markdown",
   "metadata": {},
   "source": [
    "# El Viaje del Aprendizaje\n",
    "\n",
    "Cada vez que entrenamos una red neuronal profunda, nos embarcamos en un viaje de descubrimiento y aprendizaje. Estos modelos, que son intrínsecamente complejos, tienen el potencial de aprender patrones y hacer predicciones que antes eran inimaginables. La complejidad de su entrenamiento puede ser un obstáculo, pero también es una invitación a explorar nuevas técnicas de optimización y a utilizar el poder de la computación distribuida y la inteligencia colaborativa."
   ]
  },
  {
   "cell_type": "markdown",
   "metadata": {},
   "source": [
    "# **Classification of AI Training Problems by Complexity Classes**\n",
    "\n",
    "## **P (Polynomial Time)**\n",
    "1. **Graph Search**:\n",
    "   - **BFS (Breadth-First Search)**: Explores all nodes at the present depth before moving on to nodes at the next depth level.\n",
    "   - **DFS (Depth-First Search)**: Explores as far as possible along each branch before backtracking.\n",
    "   - **Dijkstra's Algorithm**: Finds the shortest path between nodes in a graph.\n",
    "2. **Decision Tree Classification**: A predictive model that maps features to target values.\n",
    "3. **Linear Regression**: A method to model the relationship between a dependent variable and one or more independent variables.\n",
    "4. **K-Nearest Neighbors (K-NN)**: A non-parametric method used for classification and regression.\n",
    "5. **Clustering Algorithms**:\n",
    "   - **K-Means**: Partitions data into K distinct clusters based on distance to the centroid.\n",
    "   - **Hierarchical Clustering**: Builds a hierarchy of clusters.\n",
    "6. **Logistic Regression**: A statistical model that uses a logistic function to model binary dependent variables.\n",
    "7. **Support Vector Machines (SVM)** for small and linear datasets: A supervised learning model that analyzes data for classification and regression analysis.\n",
    "\n",
    "## **NP (Nondeterministic Polynomial Time)**\n",
    "1. **Genetic Algorithms**: Optimization algorithms based on the principles of natural selection and genetics.\n",
    "2. **Artificial Neural Networks (simple perceptrons)**: A computational model inspired by the human brain, used to approximate complex functions.\n",
    "3. **Local Search and Simulated Annealing**: Optimization techniques for finding a good approximation to the global optimum in a large search space.\n",
    "\n",
    "## **NP-complete**\n",
    "1. **Traveling Salesman Problem (TSP)**: Finding the shortest possible route that visits each city and returns to the origin city.\n",
    "2. **Constraint Satisfaction Problems (CSP)**: Finding values for variables that satisfy all constraints.\n",
    "3. **AI Planning**: Generating a sequence of actions that lead to a desired goal state.\n",
    "4. **Graph Coloring Problems**: Assigning colors to the vertices of a graph so that no two adjacent vertices share the same color.\n",
    "5. **Set Partitioning Problems**: Dividing a set into subsets that satisfy certain conditions.\n",
    "6. **Knapsack Problem**: Selecting items with given weights and values to maximize value without exceeding weight capacity.\n",
    "\n",
    "## **NP-hard**\n",
    "1. **Training Deep Neural Networks**: Optimizing parameters in deep networks, typically without guaranteed polynomial time solutions.\n",
    "2. **Optimization of Recurrent Neural Networks (RNNs)**: Training models that deal with sequential data.\n",
    "3. **Hyperparameter Optimization in Complex Models**: Finding the best parameters for machine learning models.\n",
    "4. **Reinforcement Learning in Complex Environments**: Learning optimal policies in environments with many states and actions.\n",
    "5. **Generalized Assignment Problems**: Assigning resources to tasks under constraints.\n",
    "\n",
    "## **EXP (Exponential Time)**\n",
    "1. **Combinatorial Optimization**: Finding an optimal object from a finite set of objects.\n",
    "2. **Search and Planning in Large State Spaces**: Exploring or planning in environments with a vast number of possible states.\n",
    "3. **Exact Game Solving with Large State Spaces**: Finding exact solutions in games with extensive possibilities.\n",
    "\n",
    "## **PSPACE (Polynomial Space)**\n",
    "1. **Game Solving with Decision Trees**:\n",
    "   - **Chess**\n",
    "   - **Go**\n",
    "2. **Model Checking in Reactive Systems**: Verifying if a model of a system satisfies certain properties.\n",
    "3. **Spatial Constraint Satisfaction Problems**: Solving constraints involving spatial relationships.\n",
    "4. **Automata Reachability Problems**: Determining the set of states that can be reached in an automaton.\n",
    "\n",
    "## **BPP (Bounded-Error Probabilistic Polynomial Time)**\n",
    "1. **Classification and Clustering with Probabilistic Methods**:\n",
    "   - **Bayesian Models**: Probabilistic models that incorporate prior knowledge.\n",
    "   - **Monte Carlo Algorithms**: Algorithms that rely on repeated random sampling.\n",
    "2. **Boosting and Bagging Algorithms**: Ensemble methods that improve the performance of machine learning models.\n",
    "\n",
    "## **EXPSPACE (Exponential Space)**\n",
    "1. **Model Checking in Complex Dynamic Systems**: Verifying properties in systems with a large number of states.\n",
    "2. **Constraint Satisfaction in Exponential State Spaces**: Solving problems where the state space grows exponentially.\n",
    "3. **Simulation and Analysis of Multiscale Complex Systems**: Simulating and analyzing systems with phenomena at multiple scales.\n",
    "\n",
    "## **Other Notable Problems**\n",
    "1. **Convolutional Neural Networks (CNNs)**: Generally NP-hard due to optimization complexity.\n",
    "2. **Natural Language Processing (NLP)**: Problems such as syntactic and semantic analysis vary in complexity.\n",
    "3. **Unsupervised Learning Algorithms**: Complexity varies widely depending on the method and specific problem.\n",
    "4. **Time Series Predictive Modeling**: Complexity ranges from P to NP-hard.\n"
   ]
  },
  {
   "cell_type": "markdown",
   "metadata": {},
   "source": []
  },
  {
   "cell_type": "code",
   "execution_count": null,
   "metadata": {},
   "outputs": [],
   "source": []
  }
 ],
 "metadata": {
  "kernelspec": {
   "display_name": "Python 3",
   "language": "python",
   "name": "python3"
  },
  "language_info": {
   "codemirror_mode": {
    "name": "ipython",
    "version": 3
   },
   "file_extension": ".py",
   "mimetype": "text/x-python",
   "name": "python",
   "nbconvert_exporter": "python",
   "pygments_lexer": "ipython3",
   "version": "3.7.6"
  }
 },
 "nbformat": 4,
 "nbformat_minor": 4
}
